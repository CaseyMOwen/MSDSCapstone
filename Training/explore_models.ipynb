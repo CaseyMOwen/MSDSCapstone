{
 "cells": [
  {
   "cell_type": "code",
   "execution_count": null,
   "metadata": {},
   "outputs": [],
   "source": [
    "''' \n",
    "Questions to answer comparing models:\n",
    "What features are important in electricity xgboost model?\n",
    "What features are important in total site energy xgboost model?\n",
    "What features are unimportant in electricity xgboost model?\n",
    "What features are unimportant in total site energy xgboost model?\n",
    "What features have the biggest difference in importances between the two outputs?\n",
    "How does a given counties electricty use vary as a single variable increases to outside extrapolation bounds?\n",
    "How does a single hot counties energy use vary\n",
    "'''"
   ]
  }
 ],
 "metadata": {
  "language_info": {
   "name": "python"
  }
 },
 "nbformat": 4,
 "nbformat_minor": 2
}
